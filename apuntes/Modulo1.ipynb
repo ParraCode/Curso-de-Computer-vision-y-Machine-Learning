{
  "cells": [
    {
      "cell_type": "markdown",
      "metadata": {
        "id": "hs1YRTwMEOCd"
      },
      "source": [
        "# 1. Librerias"
      ]
    },
    {
      "cell_type": "code",
      "execution_count": 1,
      "metadata": {
        "id": "jDeeRH7zD8-N"
      },
      "outputs": [
        {
          "name": "stdout",
          "output_type": "stream",
          "text": [
            "OpenCV version: 3.4.2\n"
          ]
        },
        {
          "name": "stderr",
          "output_type": "stream",
          "text": [
            "2022-06-07 21:24:53.420162: W tensorflow/stream_executor/platform/default/dso_loader.cc:59] Could not load dynamic library 'libcudart.so.10.1'; dlerror: libcudart.so.10.1: cannot open shared object file: No such file or directory\n",
            "2022-06-07 21:24:53.420224: I tensorflow/stream_executor/cuda/cudart_stub.cc:29] Ignore above cudart dlerror if you do not have a GPU set up on your machine.\n"
          ]
        },
        {
          "name": "stdout",
          "output_type": "stream",
          "text": [
            "TensorFlow version: 2.3.1\n",
            "Sklearn version: 1.0.2\n",
            "Skimage version: 0.19.2\n",
            "Numpy version: 1.18.5\n",
            "Pandas version: 1.3.5\n"
          ]
        }
      ],
      "source": [
        "import cv2\n",
        "print(\"OpenCV version:\", cv2.__version__)\n",
        "\n",
        "import tensorflow as tf\n",
        "print(\"TensorFlow version:\", tf.__version__)\n",
        "\n",
        "import sklearn \n",
        "print(\"Sklearn version:\", sklearn.__version__)\n",
        "\n",
        "import skimage\n",
        "print(\"Skimage version:\", skimage.__version__)\n",
        "\n",
        "import numpy as np\n",
        "print(\"Numpy version:\", np.__version__)\n",
        "\n",
        "import pandas as pd\n",
        "print(\"Pandas version:\", pd.__version__)"
      ]
    },
    {
      "cell_type": "markdown",
      "metadata": {},
      "source": [
        "# 2. Procesamiento de Imagenes"
      ]
    },
    {
      "cell_type": "markdown",
      "metadata": {},
      "source": [
        "### Cargando Imagenes"
      ]
    },
    {
      "cell_type": "code",
      "execution_count": 2,
      "metadata": {},
      "outputs": [
        {
          "data": {
            "text/plain": [
              "array([[[255, 255, 255],\n",
              "        [255, 255, 255],\n",
              "        [255, 255, 255],\n",
              "        ...,\n",
              "        [255, 255, 255],\n",
              "        [255, 255, 255],\n",
              "        [255, 255, 255]],\n",
              "\n",
              "       [[255, 255, 255],\n",
              "        [255, 255, 255],\n",
              "        [255, 255, 255],\n",
              "        ...,\n",
              "        [255, 255, 255],\n",
              "        [255, 255, 255],\n",
              "        [255, 255, 255]],\n",
              "\n",
              "       [[255, 255, 255],\n",
              "        [255, 255, 255],\n",
              "        [255, 255, 255],\n",
              "        ...,\n",
              "        [255, 255, 255],\n",
              "        [255, 255, 255],\n",
              "        [255, 255, 255]],\n",
              "\n",
              "       ...,\n",
              "\n",
              "       [[255, 255, 255],\n",
              "        [255, 255, 255],\n",
              "        [255, 255, 255],\n",
              "        ...,\n",
              "        [255, 255, 255],\n",
              "        [255, 255, 255],\n",
              "        [255, 255, 255]],\n",
              "\n",
              "       [[255, 255, 255],\n",
              "        [255, 255, 255],\n",
              "        [255, 255, 255],\n",
              "        ...,\n",
              "        [255, 255, 255],\n",
              "        [255, 255, 255],\n",
              "        [255, 255, 255]],\n",
              "\n",
              "       [[255, 255, 255],\n",
              "        [255, 255, 255],\n",
              "        [255, 255, 255],\n",
              "        ...,\n",
              "        [255, 255, 255],\n",
              "        [255, 255, 255],\n",
              "        [255, 255, 255]]], dtype=uint8)"
            ]
          },
          "execution_count": 2,
          "metadata": {},
          "output_type": "execute_result"
        }
      ],
      "source": [
        "img = cv2.imread(\"../images/pruebas/banana-ejemplo.jpg\") # importamos la foto en matriz de RGB\n",
        "img"
      ]
    },
    {
      "cell_type": "code",
      "execution_count": 3,
      "metadata": {},
      "outputs": [
        {
          "data": {
            "text/plain": [
              "48"
            ]
          },
          "execution_count": 3,
          "metadata": {},
          "output_type": "execute_result"
        }
      ],
      "source": [
        "cv2.imshow(\"test\", img) # Siempre necesita dos argumentos, el nombre de la ventana que se va a abrir y la imgen pasada por cv2.imread()\n",
        "cv2.waitKey(0) # Tecla 0 para parar la ejecucion de la celda tras hacer click en la ventana de la foto\n",
        "# cv2.destroyAllWindows() # Cierra todas las ventas"
      ]
    },
    {
      "cell_type": "markdown",
      "metadata": {},
      "source": [
        "## Tipos de imagenes"
      ]
    },
    {
      "cell_type": "markdown",
      "metadata": {},
      "source": [
        "![Tipo de Imagenes](imagenes_apuntes/tipos_imagenes.jpg)"
      ]
    },
    {
      "cell_type": "markdown",
      "metadata": {},
      "source": [
        "### RGB to HSV"
      ]
    },
    {
      "cell_type": "code",
      "execution_count": 4,
      "metadata": {},
      "outputs": [
        {
          "data": {
            "text/plain": [
              "array([[[  0,   0, 255],\n",
              "        [  0,   0, 255],\n",
              "        [  0,   0, 255],\n",
              "        ...,\n",
              "        [  0,   0, 255],\n",
              "        [  0,   0, 255],\n",
              "        [  0,   0, 255]],\n",
              "\n",
              "       [[  0,   0, 255],\n",
              "        [  0,   0, 255],\n",
              "        [  0,   0, 255],\n",
              "        ...,\n",
              "        [  0,   0, 255],\n",
              "        [  0,   0, 255],\n",
              "        [  0,   0, 255]],\n",
              "\n",
              "       [[  0,   0, 255],\n",
              "        [  0,   0, 255],\n",
              "        [  0,   0, 255],\n",
              "        ...,\n",
              "        [  0,   0, 255],\n",
              "        [  0,   0, 255],\n",
              "        [  0,   0, 255]],\n",
              "\n",
              "       ...,\n",
              "\n",
              "       [[  0,   0, 255],\n",
              "        [  0,   0, 255],\n",
              "        [  0,   0, 255],\n",
              "        ...,\n",
              "        [  0,   0, 255],\n",
              "        [  0,   0, 255],\n",
              "        [  0,   0, 255]],\n",
              "\n",
              "       [[  0,   0, 255],\n",
              "        [  0,   0, 255],\n",
              "        [  0,   0, 255],\n",
              "        ...,\n",
              "        [  0,   0, 255],\n",
              "        [  0,   0, 255],\n",
              "        [  0,   0, 255]],\n",
              "\n",
              "       [[  0,   0, 255],\n",
              "        [  0,   0, 255],\n",
              "        [  0,   0, 255],\n",
              "        ...,\n",
              "        [  0,   0, 255],\n",
              "        [  0,   0, 255],\n",
              "        [  0,   0, 255]]], dtype=uint8)"
            ]
          },
          "execution_count": 4,
          "metadata": {},
          "output_type": "execute_result"
        }
      ],
      "source": [
        "hsv = cv2.cvtColor(img,cv2.COLOR_BGR2HSV) # Pasamos la imagen de RGB HSV. Estamos midiendo ahora: el tono, la saturacion y la intensidad\n",
        "# Las valores ya no representan el Rojo Verde y Azul\n",
        "hsv # Todo lo blanco me lo pone como 0"
      ]
    },
    {
      "cell_type": "markdown",
      "metadata": {},
      "source": [
        "### Intensidad (Escala de Grises)"
      ]
    },
    {
      "cell_type": "code",
      "execution_count": 5,
      "metadata": {},
      "outputs": [
        {
          "data": {
            "text/plain": [
              "48"
            ]
          },
          "execution_count": 5,
          "metadata": {},
          "output_type": "execute_result"
        }
      ],
      "source": [
        "# Intensidad = (R+G+B) / 3\n",
        "# Podemos medir la intensidad al promediarlos. Pasamos el RGB a un solo valor que entara entre 0 y 255\n",
        "img_gray = cv2.cvtColor(img,cv2.COLOR_BGR2GRAY) # Pasamos la imgaen a blanco y negro en scala de grises\n",
        "img_gray"
      ]
    },
    {
      "cell_type": "code",
      "execution_count": null,
      "metadata": {},
      "outputs": [],
      "source": [
        "# Sacamos la imagen por pantalla\n",
        "# cv2.imshow(\"test\",img_gray)\n",
        "# cv2.waitKey(0) # Tecla 0 para parar la ejecucion de la celda tras hacer click en la ventana de la foto"
      ]
    },
    {
      "cell_type": "code",
      "execution_count": 19,
      "metadata": {},
      "outputs": [],
      "source": [
        "# cv2.destroyAllWindows() # Cierra todas las ventas"
      ]
    },
    {
      "cell_type": "markdown",
      "metadata": {},
      "source": [
        "### Binario (Blanco o Negro) Resaltar objetos"
      ]
    },
    {
      "cell_type": "code",
      "execution_count": 17,
      "metadata": {},
      "outputs": [
        {
          "data": {
            "text/plain": [
              "array([[0, 0, 0, ..., 0, 0, 0],\n",
              "       [0, 0, 0, ..., 0, 0, 0],\n",
              "       [0, 0, 0, ..., 0, 0, 0],\n",
              "       ...,\n",
              "       [0, 0, 0, ..., 0, 0, 0],\n",
              "       [0, 0, 0, ..., 0, 0, 0],\n",
              "       [0, 0, 0, ..., 0, 0, 0]], dtype=uint8)"
            ]
          },
          "execution_count": 17,
          "metadata": {},
          "output_type": "execute_result"
        }
      ],
      "source": [
        "umbral = 200 # Podemos definiendo que todo lo que este por debajo de 200 nos lo de como 255\n",
        "\n",
        "binary = np.uint8(img_gray<200)*255 # si un valor es mejor que 200 me dara 1. lo multiplico por 255 para hacer una imagen de contraste en clave de dos valores lo que no me darra 0\n",
        "binary"
      ]
    },
    {
      "cell_type": "code",
      "execution_count": 18,
      "metadata": {},
      "outputs": [
        {
          "data": {
            "text/plain": [
              "48"
            ]
          },
          "execution_count": 18,
          "metadata": {},
          "output_type": "execute_result"
        }
      ],
      "source": [
        "# Sacamos la imagen por pantalla\n",
        "cv2.imshow(\"test\",binary)\n",
        "cv2.waitKey(0) # Tecla para cerrar la venta con el 0\n",
        "# cv2.destroyAllWindows() # Cierra todas las ventas"
      ]
    },
    {
      "cell_type": "markdown",
      "metadata": {},
      "source": [
        "## Operaciones con los elementos de las Imagenes"
      ]
    },
    {
      "cell_type": "markdown",
      "metadata": {},
      "source": [
        "### Suma"
      ]
    },
    {
      "cell_type": "markdown",
      "metadata": {},
      "source": [
        "Minimo"
      ]
    },
    {
      "cell_type": "markdown",
      "metadata": {},
      "source": [
        "### Histograma"
      ]
    },
    {
      "cell_type": "code",
      "execution_count": null,
      "metadata": {},
      "outputs": [],
      "source": [
        "# Como podemos hacer una herramienta que nos resalta toda la banana por encima del fondo blanco?\n",
        "# Utilizando la herramienta de histograma"
      ]
    },
    {
      "cell_type": "code",
      "execution_count": null,
      "metadata": {},
      "outputs": [],
      "source": []
    },
    {
      "cell_type": "code",
      "execution_count": null,
      "metadata": {},
      "outputs": [],
      "source": []
    },
    {
      "cell_type": "code",
      "execution_count": null,
      "metadata": {},
      "outputs": [],
      "source": []
    },
    {
      "cell_type": "code",
      "execution_count": null,
      "metadata": {},
      "outputs": [],
      "source": []
    },
    {
      "cell_type": "code",
      "execution_count": null,
      "metadata": {},
      "outputs": [],
      "source": []
    },
    {
      "cell_type": "code",
      "execution_count": null,
      "metadata": {},
      "outputs": [],
      "source": []
    },
    {
      "cell_type": "code",
      "execution_count": null,
      "metadata": {},
      "outputs": [],
      "source": []
    },
    {
      "cell_type": "code",
      "execution_count": null,
      "metadata": {},
      "outputs": [],
      "source": []
    },
    {
      "cell_type": "code",
      "execution_count": null,
      "metadata": {},
      "outputs": [],
      "source": []
    }
  ],
  "metadata": {
    "colab": {
      "authorship_tag": "ABX9TyPrNLNS5kBcUjFlB3OtvcVx",
      "collapsed_sections": [],
      "include_colab_link": true,
      "name": "Modulo1.ipynb",
      "provenance": []
    },
    "interpreter": {
      "hash": "8f160c31fbff5a48d99b2fe80bb34fe11aba9f390facb3551e9844d30fb8be8f"
    },
    "kernelspec": {
      "display_name": "Python 3.7.13 ('curso_cv')",
      "language": "python",
      "name": "python3"
    },
    "language_info": {
      "codemirror_mode": {
        "name": "ipython",
        "version": 3
      },
      "file_extension": ".py",
      "mimetype": "text/x-python",
      "name": "python",
      "nbconvert_exporter": "python",
      "pygments_lexer": "ipython3",
      "version": "3.7.13"
    }
  },
  "nbformat": 4,
  "nbformat_minor": 0
}
